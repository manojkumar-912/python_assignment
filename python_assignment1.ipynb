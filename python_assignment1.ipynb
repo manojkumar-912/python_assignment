{
  "nbformat": 4,
  "nbformat_minor": 0,
  "metadata": {
    "colab": {
      "provenance": [],
      "authorship_tag": "ABX9TyPgBOwnR9+VECklSb3BbS/B",
      "include_colab_link": true
    },
    "kernelspec": {
      "name": "python3",
      "display_name": "Python 3"
    },
    "language_info": {
      "name": "python"
    }
  },
  "cells": [
    {
      "cell_type": "markdown",
      "metadata": {
        "id": "view-in-github",
        "colab_type": "text"
      },
      "source": [
        "<a href=\"https://colab.research.google.com/github/manojkumar-912/python_assignment/blob/main/python_assignment1.ipynb\" target=\"_parent\"><img src=\"https://colab.research.google.com/assets/colab-badge.svg\" alt=\"Open In Colab\"/></a>"
      ]
    },
    {
      "cell_type": "code",
      "execution_count": 3,
      "metadata": {
        "colab": {
          "base_uri": "https://localhost:8080/",
          "height": 0
        },
        "id": "b0Z2oP4TkLDG",
        "outputId": "2bd04183-466f-4c21-8236-714099e3c631"
      },
      "outputs": [
        {
          "output_type": "stream",
          "name": "stdout",
          "text": [
            "apbqcr\n"
          ]
        }
      ],
      "source": [
        "def interleave_strings(word1, word2):\n",
        "    result = ''.join(a + b for a, b in zip(word1, word2))\n",
        "    return result\n",
        "\n",
        "word1 = \"abc\"\n",
        "word2 = \"pqr\"\n",
        "output = interleave_strings(word1, word2)\n",
        "print(output)"
      ]
    },
    {
      "cell_type": "code",
      "source": [
        "def interleave_words(word1, word2):\n",
        "    min_length = min(len(word1), len(word2))\n",
        "    result = \"\".join(a + b for a, b in zip(word1[:min_length], word2[:min_length]))\n",
        "    result += word1[min_length:] + word2[min_length:]\n",
        "    return result\n",
        "word1 = \"ab\"\n",
        "word2 = \"pqrs\"\n",
        "output = interleave_words(word1, word2)\n",
        "print(output)"
      ],
      "metadata": {
        "colab": {
          "base_uri": "https://localhost:8080/",
          "height": 0
        },
        "id": "U226JoG6oUa_",
        "outputId": "f3e28eca-59cb-4984-fde1-70480d3bba0e"
      },
      "execution_count": 4,
      "outputs": [
        {
          "output_type": "stream",
          "name": "stdout",
          "text": [
            "apbqrs\n"
          ]
        }
      ]
    },
    {
      "cell_type": "code",
      "source": [
        "def interleave_words(word1, word2):\n",
        "    min_length = min(len(word1), len(word2))\n",
        "    result = \"\".join(a + b for a, b in zip(word1[:min_length], word2[:min_length]))\n",
        "    result += word1[min_length:] + word2[min_length:]\n",
        "    return result\n",
        "word1 = \"abcd\"\n",
        "word2 = \"pq\"\n",
        "output = interleave_words(word1, word2)\n",
        "print(output)"
      ],
      "metadata": {
        "colab": {
          "base_uri": "https://localhost:8080/",
          "height": 0
        },
        "id": "O9kB33DIptmz",
        "outputId": "f423cbf2-73dd-44a2-c17f-e31a63e4efa9"
      },
      "execution_count": 5,
      "outputs": [
        {
          "output_type": "stream",
          "name": "stdout",
          "text": [
            "apbqcd\n"
          ]
        }
      ]
    },
    {
      "cell_type": "code",
      "source": [
        "import math\n",
        "\n",
        "def find_gcd_string(str1, str2):\n",
        "    def gcd(a, b):\n",
        "        while b:\n",
        "            a, b = b, a % b\n",
        "        return a\n",
        "\n",
        "    gcd_length = gcd(len(str1), len(str2))\n",
        "    candidate = str1[:gcd_length]\n",
        "\n",
        "    if str1 == candidate * (len(str1) // gcd_length) and str2 == candidate * (len(str2) // gcd_length):\n",
        "        return candidate\n",
        "    return \"\"\n",
        "str1 = \"ABCABC\"\n",
        "str2 = \"ABC\"\n",
        "output = find_gcd_string(str1, str2)\n",
        "print(output)"
      ],
      "metadata": {
        "colab": {
          "base_uri": "https://localhost:8080/",
          "height": 0
        },
        "id": "Fp-903nhpzle",
        "outputId": "672ac1e7-0e8e-4670-b98a-47674a2526bc"
      },
      "execution_count": 6,
      "outputs": [
        {
          "output_type": "stream",
          "name": "stdout",
          "text": [
            "ABC\n"
          ]
        }
      ]
    },
    {
      "cell_type": "code",
      "source": [
        "import math\n",
        "\n",
        "def find_gcd_string(str1, str2):\n",
        "    def gcd(a, b):\n",
        "        while b:\n",
        "            a, b = b, a % b\n",
        "        return a\n",
        "\n",
        "    gcd_length = gcd(len(str1), len(str2))\n",
        "    candidate = str1[:gcd_length]\n",
        "\n",
        "    if str1 == candidate * (len(str1) // gcd_length) and str2 == candidate * (len(str2) // gcd_length):\n",
        "        return candidate\n",
        "    return \"\"\n",
        "str1 = \"ABABAB\"\n",
        "str2 = \"ABAB\"\n",
        "output = find_gcd_string(str1, str2)\n",
        "print(output)"
      ],
      "metadata": {
        "colab": {
          "base_uri": "https://localhost:8080/",
          "height": 0
        },
        "id": "VawCRKMEp7KM",
        "outputId": "38a25b83-3ffc-4fe1-dfa3-6fa25b9d7575"
      },
      "execution_count": 7,
      "outputs": [
        {
          "output_type": "stream",
          "name": "stdout",
          "text": [
            "AB\n"
          ]
        }
      ]
    },
    {
      "cell_type": "code",
      "source": [
        "import math\n",
        "\n",
        "def find_gcd_string(str1, str2):\n",
        "    def gcd(a, b):\n",
        "        while b:\n",
        "            a, b = b, a % b\n",
        "        return a\n",
        "\n",
        "    gcd_length = gcd(len(str1), len(str2))\n",
        "    candidate = str1[:gcd_length]\n",
        "\n",
        "    if str1 == candidate * (len(str1) // gcd_length) and str2 == candidate * (len(str2) // gcd_length):\n",
        "        return candidate\n",
        "    return \"\"\n",
        "str1 = \"LEET\"\n",
        "str2 = \"CODE\"\n",
        "output = find_gcd_string(str1, str2)\n",
        "print(output)"
      ],
      "metadata": {
        "colab": {
          "base_uri": "https://localhost:8080/",
          "height": 0
        },
        "id": "-0ANdsnEp_dN",
        "outputId": "bd101d20-1626-4f97-ecbc-6916383ebba2"
      },
      "execution_count": 8,
      "outputs": [
        {
          "output_type": "stream",
          "name": "stdout",
          "text": [
            "\n"
          ]
        }
      ]
    }
  ]
}